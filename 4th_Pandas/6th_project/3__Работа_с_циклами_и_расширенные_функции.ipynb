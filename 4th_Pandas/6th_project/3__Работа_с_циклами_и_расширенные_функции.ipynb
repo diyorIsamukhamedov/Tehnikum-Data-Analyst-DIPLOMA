{
 "cells": [
  {
   "cell_type": "markdown",
   "id": "580b2e11",
   "metadata": {},
   "source": [
    "# Импортируем библиотеки `\"pandas\"` (библиотека для обработки и анализа данных), `\"matmlotlib\"` (низкоуровневая библиотека для построения графиков на `Python`, которая служит в качестве утилиты визуализации), а именно модуль `.pyplot` (модуль в пакете Matplotlib) и `NumPy` - это библиотека Python, которую применяют для математических вычислений: начиная с базовых функций и заканчивая линейной алгеброй.\n",
    "---"
   ]
  },
  {
   "cell_type": "code",
   "execution_count": 1,
   "id": "d2f0f6c9",
   "metadata": {},
   "outputs": [],
   "source": [
    "import pandas as pd\n",
    "import numpy as np\n",
    "import matplotlib.pyplot as plt"
   ]
  },
  {
   "cell_type": "code",
   "execution_count": 2,
   "id": "b0670658",
   "metadata": {},
   "outputs": [],
   "source": [
    "# Снимаем ограничение на количество отображаемых колонок.\n",
    "pd.set_option(\"display.max_columns\", None)"
   ]
  },
  {
   "cell_type": "markdown",
   "id": "328cb607",
   "metadata": {},
   "source": [
    "# Перед анализом данных, очень важно выполнить этап предварительной обработки и очистки данных `(data cleaning & preprocessing)`. Это фундаментальный шаг, обеспечивающий корректность последующего анализа и визуализации.\n",
    "---"
   ]
  },
  {
   "cell_type": "markdown",
   "id": "a8e5ba0e",
   "metadata": {},
   "source": [
    "| Шаг | Описание | Пример кода (Python) |\n",
    "| ----------- | ----------- | ----------- |\n",
    "| 1. Загрузка данных | Загрузить и ознакомится с набором данных | ✅Загрузка `CSV` или `Excel-файла`. Убедитесь, что указали правильный путь и кодировку (`encoding='utf-8'` или `'cp1251'` при необходимости). Для `Excel` используйте `pd.read_excel()`, а для `CSV` файла `df = pd.read_csv(\"data.csv/xlsx\")` |\n",
    "|  | Просмотр первых строк | ✅`df.head()` - Просмотр первых 5 строк — позволяет быстро оценить структуру и наличие очевидных проблем в данных. |\n",
    "|  | Размерность таблицы | ✅`df.shape` - Возвращает (строки, столбцы), помогает понять размер набора данных.|\n",
    "|  | Типы данных | ✅`df.info()` - Важный этап: показывает типы данных и наличие пропущенных значений. Помогает наметить стратегию очистки.|\n",
    "|  | Статистика по числовым | ✅`df.describe()` - Дает сводную статистику по числовым признакам: среднее, минимум, максимум, квартили и т.д. Полезно для выявления выбросов.|\n",
    "| 2. Пропущенные значения | Найти пропуски | ✅`df.isnull().sum()` - Показывает количество пропущенных значений по каждому столбцу. Критически важно для планирования очистки.|\n",
    "|  | Удалить строки с пропусками | ❌`df.dropna(inplace=True)` - Осторожно! Удаляет все строки с хотя бы одним NaN. Может привести к сильной потере данных. Лучше применять только, если доля пропусков мала.|\n",
    "|  | Заполнить средним | ❌`df['col'].fillna(df['col'].mean(), inplace=True)` - Заполняет средним значением. Применимо только к числовым признакам. Не подходит для категориальных данных или данных с сильными выбросами. Для категорий лучше использовать моду (.mode()[0]).|\n",
    "| 3. Дубликаты | Найти дубликаты | ✅`df.duplicated().sum()` - Выявляет количество полностью дублирующихся строк.|\n",
    "|  | Удалить дубликаты | ✅`df.drop_duplicates(inplace=True)` - Удаляет все полностью идентичные строки. Иногда полезно добавить subset=['col1', 'col2'] для удаления дубликатов по определённым признакам.|\n",
    "| 4. Типы данных | Приведение типа к числовому | ✅`df['col'] = df['col'].astype(float)` - Преобразование в числовой тип (float). Если значения представлены как строки, но содержат числа — важно выполнить .str.replace(',', '.') при необходимости.|\n",
    "|  | Преобразование в дату | ❌`df['date'] = pd.to_datetime(df['date'])` - Преобразование в формат datetime — обязательно перед анализом по дате: группировки, фильтрация по времени, визуализация.|\n",
    "|  | Категориальный тип | ✅`df['col'] = df['col'].astype('category')` - Оптимизация памяти и явное указание на категориальный признак. Полезно для переменных с ограниченным числом уникальных значений.|\n",
    "| 5. Текстовые данные | Очистка текста | ❌`df['text'] = df['text'].str.replace(r'[^\\w\\s]', '', regex=True)` - Удаление пунктуации, спецсимволов. Полезно перед анализом текста (например, WordCloud, NLP). Можно дополнительно привести к нижнему регистру (.str.lower()).|\n",
    "| 6. Финальная проверка | Проверка на пропуски | ✅`df.isnull().sum()` - Финальная проверка на пропуски перед сохранением или анализом. Желательно, чтобы в финальном наборе данных не было NaN.|\n",
    "|  | Сохранение очищенных данных | ❌`df.to_csv('clean_data.csv', index=False)` - Сохраняет очищенный датафрейм без индекса. Проверьте, чтобы путь и имя файла были корректны.|"
   ]
  },
  {
   "cell_type": "code",
   "execution_count": 3,
   "id": "d6284351",
   "metadata": {},
   "outputs": [],
   "source": [
    "# ========== 1. Загрузка данных ==========\n",
    "# Загрузка csv-файла в объект DataFrame.\n",
    "# Метод pd.read_csv() считывает данные из файла csv (формата .csv) и загружает в таблицу.\n",
    "df_walmart = pd.read_csv(\"34_hw_dataset.csv\")"
   ]
  },
  {
   "cell_type": "code",
   "execution_count": 4,
   "id": "fbca3095",
   "metadata": {},
   "outputs": [
    {
     "name": "stdout",
     "output_type": "stream",
     "text": [
      "                Product                                      Review  Price  \\\n",
      "0    Samsung Galaxy S23  Perfect for gaming, but poor battery life.   $640   \n",
      "1      Sony Xperia 1 IV                           Cheap & powerful!  $1044   \n",
      "2    Samsung Galaxy S23     Battery life is awesome, but expensive.   $526   \n",
      "3      Sony Xperia 1 IV  Stock Android is smooth, but no free case.   $728   \n",
      "4  Xiaomi Redmi Note 12  Stock Android is smooth, but no free case.   $660   \n",
      "\n",
      "             Seller  \n",
      "0           Walmart  \n",
      "1            Amazon  \n",
      "2  OnePlus Official  \n",
      "3      Samsung Shop  \n",
      "4          Flipkart  \n",
      "              Product                                     Review  Price  \\\n",
      "995    Google Pixel 7           Oxygen OS is better than before!  $1270   \n",
      "996  Asus ROG Phone 6           Oxygen OS is better than before!   $606   \n",
      "997        Huawei P50              Great phone! Amazing camera 📸   $941   \n",
      "998        OnePlus 11              Great phone! Amazing camera 📸   $792   \n",
      "999  Sony Xperia 1 IV  Premium design, but lacks headphone jack.   $993   \n",
      "\n",
      "           Seller  \n",
      "995  Samsung Shop  \n",
      "996    AliExpress  \n",
      "997      Flipkart  \n",
      "998        Amazon  \n",
      "999  Samsung Shop  \n",
      "<class 'pandas.core.frame.DataFrame'>\n",
      "RangeIndex: 1000 entries, 0 to 999\n",
      "Data columns (total 4 columns):\n",
      " #   Column   Non-Null Count  Dtype \n",
      "---  ------   --------------  ----- \n",
      " 0   Product  1000 non-null   object\n",
      " 1   Review   1000 non-null   object\n",
      " 2   Price    1000 non-null   object\n",
      " 3   Seller   1000 non-null   object\n",
      "dtypes: object(4)\n",
      "memory usage: 265.0 KB\n",
      "None\n",
      "                 Product                         Review  Price   Seller\n",
      "count               1000                           1000   1000     1000\n",
      "unique                10                             10    644       10\n",
      "top     Asus ROG Phone 6  Great phone! Amazing camera 📸  $1056  Walmart\n",
      "freq                 119                            121      4      110\n",
      "Shape: (1000, 4)\n"
     ]
    }
   ],
   "source": [
    "# ========== 2. Первичный осмотр ==========\n",
    "print(df_walmart.head())\n",
    "print(df_walmart.tail())\n",
    "# Функция info() показывает информацию о DataFrame\n",
    "# Включая типы данных и использование памяти\n",
    "# memory_usage = \"deep\" позволяет получить более точную информацию о потреблении памяти\n",
    "# Важно отметить, что использование memory_usage = \"deep\" может занять больше времени, так как оно требует дополнительного анализа\n",
    "print(df_walmart.info(memory_usage = \"deep\"))\n",
    "print(df_walmart.describe())\n",
    "print(\"Shape:\", df_walmart.shape)"
   ]
  },
  {
   "cell_type": "code",
   "execution_count": 5,
   "id": "f5f0dea5",
   "metadata": {},
   "outputs": [
    {
     "data": {
      "text/plain": [
       "Product    category\n",
       "Review     category\n",
       "Price        object\n",
       "Seller     category\n",
       "dtype: object"
      ]
     },
     "execution_count": 5,
     "metadata": {},
     "output_type": "execute_result"
    }
   ],
   "source": [
    "df_walmart['Product'] = df_walmart['Product'].astype('category')\n",
    "df_walmart['Review'] = df_walmart['Review'].astype('category')\n",
    "df_walmart['Seller'] = df_walmart['Seller'].astype('category')\n",
    "df_walmart.dtypes"
   ]
  },
  {
   "cell_type": "code",
   "execution_count": 6,
   "id": "f09ae6f6",
   "metadata": {},
   "outputs": [
    {
     "data": {
      "text/plain": [
       "Product    0\n",
       "Review     0\n",
       "Price      0\n",
       "Seller     0\n",
       "dtype: int64"
      ]
     },
     "execution_count": 6,
     "metadata": {},
     "output_type": "execute_result"
    }
   ],
   "source": [
    "# Находим пропуски\n",
    "df_walmart.isnull().sum()"
   ]
  },
  {
   "cell_type": "code",
   "execution_count": 7,
   "id": "60e6cfee",
   "metadata": {},
   "outputs": [
    {
     "data": {
      "text/plain": [
       "np.int64(1)"
      ]
     },
     "execution_count": 7,
     "metadata": {},
     "output_type": "execute_result"
    }
   ],
   "source": [
    "# Находим дубликаты\n",
    "df_walmart.duplicated().sum()"
   ]
  },
  {
   "cell_type": "code",
   "execution_count": 8,
   "id": "f30e624b",
   "metadata": {},
   "outputs": [
    {
     "name": "stdout",
     "output_type": "stream",
     "text": [
      "        Product                                Review  Price        Seller\n",
      "241  Huawei P50  Good performance, but heating issue.  $1127  Samsung Shop\n"
     ]
    }
   ],
   "source": [
    "# Просматриваем дубликаты\n",
    "duplicates = df_walmart[df_walmart.duplicated()]\n",
    "print(duplicates)"
   ]
  },
  {
   "cell_type": "code",
   "execution_count": 9,
   "id": "9108f32d",
   "metadata": {},
   "outputs": [
    {
     "name": "stdout",
     "output_type": "stream",
     "text": [
      "До удаления: 1000\n",
      "После удаления: 999\n"
     ]
    }
   ],
   "source": [
    "# Удаляем дубликаты\n",
    "print(\"До удаления:\", len(df_walmart))\n",
    "df_walmart = df_walmart.drop_duplicates()\n",
    "print(\"После удаления:\", len(df_walmart))"
   ]
  },
  {
   "cell_type": "markdown",
   "id": "6677a6e1",
   "metadata": {},
   "source": [
    "# Данный датасет содержит названия товаров, отзывы, цены и продавцов. Ваша задача – очистить и проанализировать текстовые данные, выполнив следующие упражнения:"
   ]
  },
  {
   "cell_type": "markdown",
   "id": "79430d5f",
   "metadata": {},
   "source": [
    "### Приведите весь текст в колонках `Product` и `Seller` к нижнему регистру.\n",
    "### Преобразуйте текст в колонке `Review` в верхний регистр.\n",
    "### Удалите пробелы в начале и конце строк в колонках `Product` и `Seller`.\n",
    "### Замените все вхождения слова `\"free\"` в колонке `Review` на `\"complimentary\"`.\n",
    "### Используйте регулярные выражения, чтобы удалить специальные символы (например, `!` и `📸`) из колонки `Review`.\n",
    "---"
   ]
  },
  {
   "cell_type": "code",
   "execution_count": 10,
   "id": "c9d326d5",
   "metadata": {},
   "outputs": [
    {
     "data": {
      "text/html": [
       "<div>\n",
       "<style scoped>\n",
       "    .dataframe tbody tr th:only-of-type {\n",
       "        vertical-align: middle;\n",
       "    }\n",
       "\n",
       "    .dataframe tbody tr th {\n",
       "        vertical-align: top;\n",
       "    }\n",
       "\n",
       "    .dataframe thead th {\n",
       "        text-align: right;\n",
       "    }\n",
       "</style>\n",
       "<table border=\"1\" class=\"dataframe\">\n",
       "  <thead>\n",
       "    <tr style=\"text-align: right;\">\n",
       "      <th></th>\n",
       "      <th>Product</th>\n",
       "      <th>Seller</th>\n",
       "    </tr>\n",
       "  </thead>\n",
       "  <tbody>\n",
       "    <tr>\n",
       "      <th>0</th>\n",
       "      <td>samsung galaxy s23</td>\n",
       "      <td>walmart</td>\n",
       "    </tr>\n",
       "    <tr>\n",
       "      <th>1</th>\n",
       "      <td>sony xperia 1 iv</td>\n",
       "      <td>amazon</td>\n",
       "    </tr>\n",
       "    <tr>\n",
       "      <th>2</th>\n",
       "      <td>samsung galaxy s23</td>\n",
       "      <td>oneplus official</td>\n",
       "    </tr>\n",
       "    <tr>\n",
       "      <th>3</th>\n",
       "      <td>sony xperia 1 iv</td>\n",
       "      <td>samsung shop</td>\n",
       "    </tr>\n",
       "    <tr>\n",
       "      <th>4</th>\n",
       "      <td>xiaomi redmi note 12</td>\n",
       "      <td>flipkart</td>\n",
       "    </tr>\n",
       "  </tbody>\n",
       "</table>\n",
       "</div>"
      ],
      "text/plain": [
       "                Product            Seller\n",
       "0    samsung galaxy s23           walmart\n",
       "1      sony xperia 1 iv            amazon\n",
       "2    samsung galaxy s23  oneplus official\n",
       "3      sony xperia 1 iv      samsung shop\n",
       "4  xiaomi redmi note 12          flipkart"
      ]
     },
     "execution_count": 10,
     "metadata": {},
     "output_type": "execute_result"
    }
   ],
   "source": [
    "# Приведите весь текст в колонках Product и Seller к нижнему регистру.\n",
    "for col in [\"Product\", \"Seller\"]:\n",
    "    df_walmart[col] = df_walmart[col].str.lower()\n",
    "\n",
    "df_walmart[[\"Product\", \"Seller\"]].head()"
   ]
  },
  {
   "cell_type": "code",
   "execution_count": 11,
   "id": "f2385af4",
   "metadata": {},
   "outputs": [
    {
     "data": {
      "text/html": [
       "<div>\n",
       "<style scoped>\n",
       "    .dataframe tbody tr th:only-of-type {\n",
       "        vertical-align: middle;\n",
       "    }\n",
       "\n",
       "    .dataframe tbody tr th {\n",
       "        vertical-align: top;\n",
       "    }\n",
       "\n",
       "    .dataframe thead th {\n",
       "        text-align: right;\n",
       "    }\n",
       "</style>\n",
       "<table border=\"1\" class=\"dataframe\">\n",
       "  <thead>\n",
       "    <tr style=\"text-align: right;\">\n",
       "      <th></th>\n",
       "      <th>Review</th>\n",
       "    </tr>\n",
       "  </thead>\n",
       "  <tbody>\n",
       "    <tr>\n",
       "      <th>0</th>\n",
       "      <td>PERFECT FOR GAMING, BUT POOR BATTERY LIFE.</td>\n",
       "    </tr>\n",
       "    <tr>\n",
       "      <th>1</th>\n",
       "      <td>CHEAP &amp; POWERFUL!</td>\n",
       "    </tr>\n",
       "    <tr>\n",
       "      <th>2</th>\n",
       "      <td>BATTERY LIFE IS AWESOME, BUT EXPENSIVE.</td>\n",
       "    </tr>\n",
       "    <tr>\n",
       "      <th>3</th>\n",
       "      <td>STOCK ANDROID IS SMOOTH, BUT NO FREE CASE.</td>\n",
       "    </tr>\n",
       "    <tr>\n",
       "      <th>4</th>\n",
       "      <td>STOCK ANDROID IS SMOOTH, BUT NO FREE CASE.</td>\n",
       "    </tr>\n",
       "  </tbody>\n",
       "</table>\n",
       "</div>"
      ],
      "text/plain": [
       "                                       Review\n",
       "0  PERFECT FOR GAMING, BUT POOR BATTERY LIFE.\n",
       "1                           CHEAP & POWERFUL!\n",
       "2     BATTERY LIFE IS AWESOME, BUT EXPENSIVE.\n",
       "3  STOCK ANDROID IS SMOOTH, BUT NO FREE CASE.\n",
       "4  STOCK ANDROID IS SMOOTH, BUT NO FREE CASE."
      ]
     },
     "execution_count": 11,
     "metadata": {},
     "output_type": "execute_result"
    }
   ],
   "source": [
    "# Преобразуйте текст в колонке `Review` в верхний регистр.\n",
    "df_walmart[\"Review\"] = df_walmart[\"Review\"].str.upper()\n",
    "df_walmart[[\"Review\"]].head()"
   ]
  },
  {
   "cell_type": "code",
   "execution_count": 12,
   "id": "a7729b46",
   "metadata": {},
   "outputs": [
    {
     "data": {
      "text/html": [
       "<div>\n",
       "<style scoped>\n",
       "    .dataframe tbody tr th:only-of-type {\n",
       "        vertical-align: middle;\n",
       "    }\n",
       "\n",
       "    .dataframe tbody tr th {\n",
       "        vertical-align: top;\n",
       "    }\n",
       "\n",
       "    .dataframe thead th {\n",
       "        text-align: right;\n",
       "    }\n",
       "</style>\n",
       "<table border=\"1\" class=\"dataframe\">\n",
       "  <thead>\n",
       "    <tr style=\"text-align: right;\">\n",
       "      <th></th>\n",
       "      <th>Product</th>\n",
       "      <th>Seller</th>\n",
       "    </tr>\n",
       "  </thead>\n",
       "  <tbody>\n",
       "    <tr>\n",
       "      <th>0</th>\n",
       "      <td>samsung galaxy s23</td>\n",
       "      <td>walmart</td>\n",
       "    </tr>\n",
       "    <tr>\n",
       "      <th>1</th>\n",
       "      <td>sony xperia 1 iv</td>\n",
       "      <td>amazon</td>\n",
       "    </tr>\n",
       "    <tr>\n",
       "      <th>2</th>\n",
       "      <td>samsung galaxy s23</td>\n",
       "      <td>oneplus official</td>\n",
       "    </tr>\n",
       "    <tr>\n",
       "      <th>3</th>\n",
       "      <td>sony xperia 1 iv</td>\n",
       "      <td>samsung shop</td>\n",
       "    </tr>\n",
       "    <tr>\n",
       "      <th>4</th>\n",
       "      <td>xiaomi redmi note 12</td>\n",
       "      <td>flipkart</td>\n",
       "    </tr>\n",
       "  </tbody>\n",
       "</table>\n",
       "</div>"
      ],
      "text/plain": [
       "                Product            Seller\n",
       "0    samsung galaxy s23           walmart\n",
       "1      sony xperia 1 iv            amazon\n",
       "2    samsung galaxy s23  oneplus official\n",
       "3      sony xperia 1 iv      samsung shop\n",
       "4  xiaomi redmi note 12          flipkart"
      ]
     },
     "execution_count": 12,
     "metadata": {},
     "output_type": "execute_result"
    }
   ],
   "source": [
    "# Удалите пробелы в начале и конце строк в колонках `Product` и `Seller`.\n",
    "for col in [\"Product\", \"Seller\"]:\n",
    "    df_walmart[col] = df_walmart[col].str.strip()\n",
    "\n",
    "df_walmart[[\"Product\", \"Seller\"]].head()"
   ]
  },
  {
   "cell_type": "code",
   "execution_count": 13,
   "id": "89237daf",
   "metadata": {},
   "outputs": [
    {
     "data": {
      "text/html": [
       "<div>\n",
       "<style scoped>\n",
       "    .dataframe tbody tr th:only-of-type {\n",
       "        vertical-align: middle;\n",
       "    }\n",
       "\n",
       "    .dataframe tbody tr th {\n",
       "        vertical-align: top;\n",
       "    }\n",
       "\n",
       "    .dataframe thead th {\n",
       "        text-align: right;\n",
       "    }\n",
       "</style>\n",
       "<table border=\"1\" class=\"dataframe\">\n",
       "  <thead>\n",
       "    <tr style=\"text-align: right;\">\n",
       "      <th></th>\n",
       "      <th>Product</th>\n",
       "      <th>Review</th>\n",
       "      <th>Price</th>\n",
       "      <th>Seller</th>\n",
       "    </tr>\n",
       "  </thead>\n",
       "  <tbody>\n",
       "    <tr>\n",
       "      <th>3</th>\n",
       "      <td>sony xperia 1 iv</td>\n",
       "      <td>STOCK ANDROID IS SMOOTH, BUT NO complimentary ...</td>\n",
       "      <td>$728</td>\n",
       "      <td>samsung shop</td>\n",
       "    </tr>\n",
       "    <tr>\n",
       "      <th>4</th>\n",
       "      <td>xiaomi redmi note 12</td>\n",
       "      <td>STOCK ANDROID IS SMOOTH, BUT NO complimentary ...</td>\n",
       "      <td>$660</td>\n",
       "      <td>flipkart</td>\n",
       "    </tr>\n",
       "    <tr>\n",
       "      <th>17</th>\n",
       "      <td>huawei p50</td>\n",
       "      <td>STOCK ANDROID IS SMOOTH, BUT NO complimentary ...</td>\n",
       "      <td>$1154</td>\n",
       "      <td>newegg</td>\n",
       "    </tr>\n",
       "    <tr>\n",
       "      <th>23</th>\n",
       "      <td>asus rog phone 6</td>\n",
       "      <td>STOCK ANDROID IS SMOOTH, BUT NO complimentary ...</td>\n",
       "      <td>$968</td>\n",
       "      <td>ebay</td>\n",
       "    </tr>\n",
       "    <tr>\n",
       "      <th>26</th>\n",
       "      <td>realme gt 2</td>\n",
       "      <td>STOCK ANDROID IS SMOOTH, BUT NO complimentary ...</td>\n",
       "      <td>$452</td>\n",
       "      <td>oneplus official</td>\n",
       "    </tr>\n",
       "  </tbody>\n",
       "</table>\n",
       "</div>"
      ],
      "text/plain": [
       "                 Product                                             Review  \\\n",
       "3       sony xperia 1 iv  STOCK ANDROID IS SMOOTH, BUT NO complimentary ...   \n",
       "4   xiaomi redmi note 12  STOCK ANDROID IS SMOOTH, BUT NO complimentary ...   \n",
       "17            huawei p50  STOCK ANDROID IS SMOOTH, BUT NO complimentary ...   \n",
       "23      asus rog phone 6  STOCK ANDROID IS SMOOTH, BUT NO complimentary ...   \n",
       "26           realme gt 2  STOCK ANDROID IS SMOOTH, BUT NO complimentary ...   \n",
       "\n",
       "    Price            Seller  \n",
       "3    $728      samsung shop  \n",
       "4    $660          flipkart  \n",
       "17  $1154            newegg  \n",
       "23   $968              ebay  \n",
       "26   $452  oneplus official  "
      ]
     },
     "execution_count": 13,
     "metadata": {},
     "output_type": "execute_result"
    }
   ],
   "source": [
    "# Замените все вхождения слова `\"free\"` в колонке `Review` на `\"complimentary\"`.\n",
    "df_walmart[\"Review\"] = df_walmart[\"Review\"].str.replace(\"free\", \"complimentary\", case = False)\n",
    "\n",
    "df_walmart[df_walmart[\"Review\"].str.contains(\"complimentary\", case = False, regex = False)].head()"
   ]
  },
  {
   "cell_type": "code",
   "execution_count": 14,
   "id": "21f1bb27",
   "metadata": {},
   "outputs": [
    {
     "data": {
      "text/html": [
       "<div>\n",
       "<style scoped>\n",
       "    .dataframe tbody tr th:only-of-type {\n",
       "        vertical-align: middle;\n",
       "    }\n",
       "\n",
       "    .dataframe tbody tr th {\n",
       "        vertical-align: top;\n",
       "    }\n",
       "\n",
       "    .dataframe thead th {\n",
       "        text-align: right;\n",
       "    }\n",
       "</style>\n",
       "<table border=\"1\" class=\"dataframe\">\n",
       "  <thead>\n",
       "    <tr style=\"text-align: right;\">\n",
       "      <th></th>\n",
       "      <th>Product</th>\n",
       "      <th>Review</th>\n",
       "      <th>Price</th>\n",
       "      <th>Seller</th>\n",
       "    </tr>\n",
       "  </thead>\n",
       "  <tbody>\n",
       "  </tbody>\n",
       "</table>\n",
       "</div>"
      ],
      "text/plain": [
       "Empty DataFrame\n",
       "Columns: [Product, Review, Price, Seller]\n",
       "Index: []"
      ]
     },
     "execution_count": 14,
     "metadata": {},
     "output_type": "execute_result"
    }
   ],
   "source": [
    "# Используйте регулярные выражения, чтобы удалить специальные символы (например, `!` и `📸`) из колонки `Review`.\n",
    "import re\n",
    "\n",
    "df_walmart[\"Review\"] = df_walmart[\"Review\"].str.replace(r\"[^A-Za-z0-9\\s]\", \"\", regex=True)\n",
    "\n",
    "# Ищем emoji. Если на выходе пусто, значит они удалены.\n",
    "df_walmart[df_walmart[\"Review\"].str.contains(\"📸\", case = False, regex = False)]"
   ]
  },
  {
   "cell_type": "markdown",
   "id": "b1d99801",
   "metadata": {},
   "source": [
    "---"
   ]
  },
  {
   "cell_type": "markdown",
   "id": "4ee933a6",
   "metadata": {},
   "source": [
    "# Проверка на наличие подстрок:\n",
    "### Создайте новую колонку `contains_awesome`, которая принимает значение `True`, если в тексте отзыва `(Review)` есть слово `\"awesome\"`, и `False` в противном случае.\n",
    "\n",
    "### Извлеките числовое значение цены из колонки `Price` и сохраните его как целое число в новой колонке `Price_Numeric`.\n",
    "---"
   ]
  },
  {
   "cell_type": "code",
   "execution_count": 15,
   "id": "b62c0e4f",
   "metadata": {},
   "outputs": [
    {
     "data": {
      "text/html": [
       "<div>\n",
       "<style scoped>\n",
       "    .dataframe tbody tr th:only-of-type {\n",
       "        vertical-align: middle;\n",
       "    }\n",
       "\n",
       "    .dataframe tbody tr th {\n",
       "        vertical-align: top;\n",
       "    }\n",
       "\n",
       "    .dataframe thead th {\n",
       "        text-align: right;\n",
       "    }\n",
       "</style>\n",
       "<table border=\"1\" class=\"dataframe\">\n",
       "  <thead>\n",
       "    <tr style=\"text-align: right;\">\n",
       "      <th></th>\n",
       "      <th>Review</th>\n",
       "      <th>contains_awesome</th>\n",
       "    </tr>\n",
       "  </thead>\n",
       "  <tbody>\n",
       "    <tr>\n",
       "      <th>0</th>\n",
       "      <td>PERFECT FOR GAMING BUT POOR BATTERY LIFE</td>\n",
       "      <td>False</td>\n",
       "    </tr>\n",
       "    <tr>\n",
       "      <th>1</th>\n",
       "      <td>CHEAP  POWERFUL</td>\n",
       "      <td>False</td>\n",
       "    </tr>\n",
       "    <tr>\n",
       "      <th>2</th>\n",
       "      <td>BATTERY LIFE IS AWESOME BUT EXPENSIVE</td>\n",
       "      <td>True</td>\n",
       "    </tr>\n",
       "    <tr>\n",
       "      <th>3</th>\n",
       "      <td>STOCK ANDROID IS SMOOTH BUT NO complimentary CASE</td>\n",
       "      <td>False</td>\n",
       "    </tr>\n",
       "    <tr>\n",
       "      <th>4</th>\n",
       "      <td>STOCK ANDROID IS SMOOTH BUT NO complimentary CASE</td>\n",
       "      <td>False</td>\n",
       "    </tr>\n",
       "  </tbody>\n",
       "</table>\n",
       "</div>"
      ],
      "text/plain": [
       "                                              Review  contains_awesome\n",
       "0           PERFECT FOR GAMING BUT POOR BATTERY LIFE             False\n",
       "1                                    CHEAP  POWERFUL             False\n",
       "2              BATTERY LIFE IS AWESOME BUT EXPENSIVE              True\n",
       "3  STOCK ANDROID IS SMOOTH BUT NO complimentary CASE             False\n",
       "4  STOCK ANDROID IS SMOOTH BUT NO complimentary CASE             False"
      ]
     },
     "execution_count": 15,
     "metadata": {},
     "output_type": "execute_result"
    }
   ],
   "source": [
    "# Создайте новую колонку `contains_awesome`, которая принимает значение `True`, \n",
    "# если в тексте отзыва `(Review)` есть слово `\"awesome\"`, и `False` в противном случае.\n",
    "df_walmart[\"contains_awesome\"] = df_walmart[\"Review\"].str.contains(r\"\\bawesome\\b\", case=False, na=False)\n",
    "\n",
    "df_walmart[[\"Review\", \"contains_awesome\"]].head()"
   ]
  },
  {
   "cell_type": "code",
   "execution_count": 16,
   "id": "675773ff",
   "metadata": {},
   "outputs": [
    {
     "data": {
      "text/html": [
       "<div>\n",
       "<style scoped>\n",
       "    .dataframe tbody tr th:only-of-type {\n",
       "        vertical-align: middle;\n",
       "    }\n",
       "\n",
       "    .dataframe tbody tr th {\n",
       "        vertical-align: top;\n",
       "    }\n",
       "\n",
       "    .dataframe thead th {\n",
       "        text-align: right;\n",
       "    }\n",
       "</style>\n",
       "<table border=\"1\" class=\"dataframe\">\n",
       "  <thead>\n",
       "    <tr style=\"text-align: right;\">\n",
       "      <th></th>\n",
       "      <th>Price</th>\n",
       "      <th>Price_Numeric</th>\n",
       "    </tr>\n",
       "  </thead>\n",
       "  <tbody>\n",
       "    <tr>\n",
       "      <th>0</th>\n",
       "      <td>$640</td>\n",
       "      <td>640</td>\n",
       "    </tr>\n",
       "    <tr>\n",
       "      <th>1</th>\n",
       "      <td>$1044</td>\n",
       "      <td>1044</td>\n",
       "    </tr>\n",
       "    <tr>\n",
       "      <th>2</th>\n",
       "      <td>$526</td>\n",
       "      <td>526</td>\n",
       "    </tr>\n",
       "    <tr>\n",
       "      <th>3</th>\n",
       "      <td>$728</td>\n",
       "      <td>728</td>\n",
       "    </tr>\n",
       "    <tr>\n",
       "      <th>4</th>\n",
       "      <td>$660</td>\n",
       "      <td>660</td>\n",
       "    </tr>\n",
       "  </tbody>\n",
       "</table>\n",
       "</div>"
      ],
      "text/plain": [
       "   Price  Price_Numeric\n",
       "0   $640            640\n",
       "1  $1044           1044\n",
       "2   $526            526\n",
       "3   $728            728\n",
       "4   $660            660"
      ]
     },
     "execution_count": 16,
     "metadata": {},
     "output_type": "execute_result"
    }
   ],
   "source": [
    "# Извлеките числовое значение цены из колонки `Price` и сохраните его \n",
    "# как целое число в новой колонке `Price_Numeric`.\n",
    "df_walmart[\"Price_Numeric\"] = df_walmart[\"Price\"].replace(r\"[\\$,]\", \"\", regex = True).astype(int)\n",
    "\n",
    "df_walmart[[\"Price\", \"Price_Numeric\"]].head()"
   ]
  },
  {
   "cell_type": "markdown",
   "id": "9c60a7c0",
   "metadata": {},
   "source": [
    "### Использование `iterrows()`:\n",
    "### Пройдитесь по строкам датасета и выведите на экран названия товаров вместе с их продавцами в формате: \"`Товар: iPhone 14 продаётся у Amazon`\"\n",
    "\n",
    "### Создайте новую колонку `Word_Count`, которая содержит количество слов в каждом отзыве `(Review)`.\n",
    "\n",
    "### Замените названия продавцов так, чтобы `\"best buy\"` стало `\"Best Buy\"`, а `\"Google Store\"` стало `\"Google Official\"`.\n",
    "\n",
    "### Добавьте новую колонку `Review_Length`, в которой будет храниться длина каждого отзыва `(число символов)`, используя `lambda`.\n",
    "\n",
    "### Используйте `while-цикл`, чтобы пройтись по строкам и прекратить вывод, как только встретится товар с ценой ниже `$500`.\n",
    "---"
   ]
  },
  {
   "cell_type": "code",
   "execution_count": 17,
   "id": "a0a66182",
   "metadata": {},
   "outputs": [
    {
     "name": "stdout",
     "output_type": "stream",
     "text": [
      "Товар: samsung galaxy s23 продаётся у walmart\n",
      "Товар: sony xperia 1 iv продаётся у amazon\n",
      "Товар: samsung galaxy s23 продаётся у oneplus official\n",
      "Товар: sony xperia 1 iv продаётся у samsung shop\n",
      "Товар: xiaomi redmi note 12 продаётся у flipkart\n"
     ]
    }
   ],
   "source": [
    "# Пройдитесь по строкам датасета и выведите на экран названия товаров \n",
    "# вместе с их продавцами в формате: \"`Товар: iPhone 14 продаётся у Amazon`\"\n",
    "for index, row in df_walmart.head().iterrows():\n",
    "    print(f\"Товар: {row['Product']} продаётся у {row['Seller']}\")"
   ]
  },
  {
   "cell_type": "code",
   "execution_count": 18,
   "id": "9292036c",
   "metadata": {},
   "outputs": [
    {
     "data": {
      "text/html": [
       "<div>\n",
       "<style scoped>\n",
       "    .dataframe tbody tr th:only-of-type {\n",
       "        vertical-align: middle;\n",
       "    }\n",
       "\n",
       "    .dataframe tbody tr th {\n",
       "        vertical-align: top;\n",
       "    }\n",
       "\n",
       "    .dataframe thead th {\n",
       "        text-align: right;\n",
       "    }\n",
       "</style>\n",
       "<table border=\"1\" class=\"dataframe\">\n",
       "  <thead>\n",
       "    <tr style=\"text-align: right;\">\n",
       "      <th></th>\n",
       "      <th>Review</th>\n",
       "      <th>Word_Count</th>\n",
       "    </tr>\n",
       "  </thead>\n",
       "  <tbody>\n",
       "    <tr>\n",
       "      <th>0</th>\n",
       "      <td>PERFECT FOR GAMING BUT POOR BATTERY LIFE</td>\n",
       "      <td>7</td>\n",
       "    </tr>\n",
       "    <tr>\n",
       "      <th>1</th>\n",
       "      <td>CHEAP  POWERFUL</td>\n",
       "      <td>2</td>\n",
       "    </tr>\n",
       "    <tr>\n",
       "      <th>2</th>\n",
       "      <td>BATTERY LIFE IS AWESOME BUT EXPENSIVE</td>\n",
       "      <td>6</td>\n",
       "    </tr>\n",
       "    <tr>\n",
       "      <th>3</th>\n",
       "      <td>STOCK ANDROID IS SMOOTH BUT NO complimentary CASE</td>\n",
       "      <td>8</td>\n",
       "    </tr>\n",
       "    <tr>\n",
       "      <th>4</th>\n",
       "      <td>STOCK ANDROID IS SMOOTH BUT NO complimentary CASE</td>\n",
       "      <td>8</td>\n",
       "    </tr>\n",
       "  </tbody>\n",
       "</table>\n",
       "</div>"
      ],
      "text/plain": [
       "                                              Review  Word_Count\n",
       "0           PERFECT FOR GAMING BUT POOR BATTERY LIFE           7\n",
       "1                                    CHEAP  POWERFUL           2\n",
       "2              BATTERY LIFE IS AWESOME BUT EXPENSIVE           6\n",
       "3  STOCK ANDROID IS SMOOTH BUT NO complimentary CASE           8\n",
       "4  STOCK ANDROID IS SMOOTH BUT NO complimentary CASE           8"
      ]
     },
     "execution_count": 18,
     "metadata": {},
     "output_type": "execute_result"
    }
   ],
   "source": [
    "# Создайте новую колонку `Word_Count`, которая содержит количество слов в каждом отзыве `(Review)`.\n",
    "df_walmart[\"Word_Count\"] = df_walmart[\"Review\"].str.split().str.len()\n",
    "df_walmart[[\"Review\", \"Word_Count\"]].head()"
   ]
  },
  {
   "cell_type": "code",
   "execution_count": 29,
   "id": "6ac9080d",
   "metadata": {},
   "outputs": [
    {
     "data": {
      "text/plain": [
       "Seller\n",
       "walmart             110\n",
       "oneplus official    106\n",
       "flipkart            106\n",
       "Google Official     104\n",
       "samsung shop        103\n",
       "Best Buy            102\n",
       "newegg               99\n",
       "amazon               97\n",
       "aliexpress           96\n",
       "ebay                 76\n",
       "Name: count, dtype: int64"
      ]
     },
     "execution_count": 29,
     "metadata": {},
     "output_type": "execute_result"
    }
   ],
   "source": [
    "# Замените названия продавцов так, чтобы `\"best buy\"` стало `\"Best Buy\"`, \n",
    "# а `\"Google Store\"` стало `\"Google Official\"`.\n",
    "df_walmart[\"Seller\"] = df_walmart[\"Seller\"].str.replace(\"best buy\", \"Best Buy\", case = False)\n",
    "df_walmart[\"Seller\"] = df_walmart[\"Seller\"].str.replace(\"Google Store\", \"Google Official\", case = False)\n",
    "\n",
    "df_walmart[\"Seller\"].value_counts()"
   ]
  },
  {
   "cell_type": "code",
   "execution_count": 30,
   "id": "d20c8b1c",
   "metadata": {},
   "outputs": [
    {
     "data": {
      "text/html": [
       "<div>\n",
       "<style scoped>\n",
       "    .dataframe tbody tr th:only-of-type {\n",
       "        vertical-align: middle;\n",
       "    }\n",
       "\n",
       "    .dataframe tbody tr th {\n",
       "        vertical-align: top;\n",
       "    }\n",
       "\n",
       "    .dataframe thead th {\n",
       "        text-align: right;\n",
       "    }\n",
       "</style>\n",
       "<table border=\"1\" class=\"dataframe\">\n",
       "  <thead>\n",
       "    <tr style=\"text-align: right;\">\n",
       "      <th></th>\n",
       "      <th>Review</th>\n",
       "      <th>Review_Length</th>\n",
       "    </tr>\n",
       "  </thead>\n",
       "  <tbody>\n",
       "    <tr>\n",
       "      <th>0</th>\n",
       "      <td>PERFECT FOR GAMING BUT POOR BATTERY LIFE</td>\n",
       "      <td>40</td>\n",
       "    </tr>\n",
       "    <tr>\n",
       "      <th>1</th>\n",
       "      <td>CHEAP  POWERFUL</td>\n",
       "      <td>15</td>\n",
       "    </tr>\n",
       "    <tr>\n",
       "      <th>2</th>\n",
       "      <td>BATTERY LIFE IS AWESOME BUT EXPENSIVE</td>\n",
       "      <td>37</td>\n",
       "    </tr>\n",
       "    <tr>\n",
       "      <th>3</th>\n",
       "      <td>STOCK ANDROID IS SMOOTH BUT NO complimentary CASE</td>\n",
       "      <td>49</td>\n",
       "    </tr>\n",
       "    <tr>\n",
       "      <th>4</th>\n",
       "      <td>STOCK ANDROID IS SMOOTH BUT NO complimentary CASE</td>\n",
       "      <td>49</td>\n",
       "    </tr>\n",
       "  </tbody>\n",
       "</table>\n",
       "</div>"
      ],
      "text/plain": [
       "                                              Review  Review_Length\n",
       "0           PERFECT FOR GAMING BUT POOR BATTERY LIFE             40\n",
       "1                                    CHEAP  POWERFUL             15\n",
       "2              BATTERY LIFE IS AWESOME BUT EXPENSIVE             37\n",
       "3  STOCK ANDROID IS SMOOTH BUT NO complimentary CASE             49\n",
       "4  STOCK ANDROID IS SMOOTH BUT NO complimentary CASE             49"
      ]
     },
     "execution_count": 30,
     "metadata": {},
     "output_type": "execute_result"
    }
   ],
   "source": [
    "# Добавьте новую колонку `Review_Length`, в которой будет храниться длина каждого отзыва\n",
    "# `(число символов)`, используя `lambda`.\n",
    "df_walmart[\"Review_Length\"] = df_walmart[\"Review\"].apply(lambda x: len(x))\n",
    "\n",
    "df_walmart[[\"Review\", \"Review_Length\"]].head()"
   ]
  },
  {
   "cell_type": "code",
   "execution_count": 35,
   "id": "58b06ec2",
   "metadata": {},
   "outputs": [
    {
     "name": "stdout",
     "output_type": "stream",
     "text": [
      "0: samsung galaxy s23 - $640\n",
      "1: sony xperia 1 iv - $1044\n",
      "2: samsung galaxy s23 - $526\n",
      "3: sony xperia 1 iv - $728\n",
      "4: xiaomi redmi note 12 - $660\n",
      "5: xiaomi redmi note 12 - $1236\n",
      "6: oneplus 11 - $1166\n",
      "7: realme gt 2 - $1153\n",
      "8: google pixel 7 - $1122\n",
      "9: sony xperia 1 iv - $1033\n",
      "10: oneplus 11 - $1079\n"
     ]
    }
   ],
   "source": [
    "# Используйте `while-цикл`, чтобы пройтись по строкам и прекратить вывод,\n",
    "# как только встретится товар с ценой ниже `$500`.\n",
    "i = 0\n",
    "while i < len(df_walmart):\n",
    "    price = df_walmart[\"Price_Numeric\"].iloc[i]\n",
    "\n",
    "    if price < 500:\n",
    "        break\n",
    "    else:\n",
    "        product = df_walmart[\"Product\"].iloc[i]\n",
    "        print(f\"{i}: {product} - ${price}\")\n",
    "    \n",
    "    i += 1"
   ]
  }
 ],
 "metadata": {
  "kernelspec": {
   "display_name": "Python 3",
   "language": "python",
   "name": "python3"
  },
  "language_info": {
   "codemirror_mode": {
    "name": "ipython",
    "version": 3
   },
   "file_extension": ".py",
   "mimetype": "text/x-python",
   "name": "python",
   "nbconvert_exporter": "python",
   "pygments_lexer": "ipython3",
   "version": "3.12.4"
  }
 },
 "nbformat": 4,
 "nbformat_minor": 5
}
