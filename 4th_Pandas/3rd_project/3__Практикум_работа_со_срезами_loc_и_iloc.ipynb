{
 "cells": [
  {
   "cell_type": "code",
   "execution_count": 103,
   "id": "97b8fe72",
   "metadata": {},
   "outputs": [],
   "source": [
    "# Импорт библиотеки Pandas\n",
    "import pandas as pd"
   ]
  },
  {
   "cell_type": "markdown",
   "id": "86e5329b",
   "metadata": {},
   "source": [
    "## Снимаем ограничение на количество отображаемых колонок.\n",
    "---"
   ]
  },
  {
   "cell_type": "code",
   "execution_count": null,
   "id": "84f53408",
   "metadata": {},
   "outputs": [],
   "source": [
    "# Установка опций отображения для Pandas\n",
    "pd.set_option('display.max_columns', None)"
   ]
  },
  {
   "cell_type": "markdown",
   "id": "841a0398",
   "metadata": {},
   "source": [
    "# Перед анализом данных, очень важно выполнить этап предварительной обработки и очистки данных **(data cleaning & preprocessing)**. Это фундаментальный шаг, обеспечивающий корректность последующего анализа и визуализации.\n",
    "---"
   ]
  },
  {
   "cell_type": "markdown",
   "id": "f52cb59c",
   "metadata": {},
   "source": [
    "## Краткий чек-лист перед анализом:\n",
    "\n",
    "| Шаг | Действие |\n",
    "| ----------- | ----------- |\n",
    "| 1. Загрузка данных. | Загрузить файл без заголовков, задать названия колонок |\n",
    "| 2. Очистка названий колонок | Удалить пробелы, привести к единообразию (к нижнему регистру) |\n",
    "---\n",
    "### Датасет Iris — это классический и хорошо известный набор данных, используемый с 1936 года (Фишер). Он всегда содержит:\n",
    "| Признак | Описание |\n",
    "| ----------- | ----------- |\n",
    "| sepal length | длина чашелистика (float) |\n",
    "| sepal width | ширина чашелистика (float) |\n",
    "| petal length | длина лепестка (float) |\n",
    "| petal width | ширина лепестка (float) |\n",
    "| species | вид цветка (строка) |\n",
    "---"
   ]
  },
  {
   "cell_type": "markdown",
   "id": "2b1591e4",
   "metadata": {},
   "source": [
    "# 1. Загрузите датасет `Iris` с помощью библиотеки `pandas`.\n",
    "---"
   ]
  },
  {
   "cell_type": "code",
   "execution_count": 105,
   "id": "cfed19b0",
   "metadata": {},
   "outputs": [],
   "source": [
    "# Задаём правильные названия колонок\n",
    "right_columns_names = [\n",
    "    \"sepal_length (cm)\",\n",
    "    \"sepal_width (cm)\",\n",
    "    \"petal_length (cm)\",\n",
    "    \"petal_width (cm)\",\n",
    "    \"species\"\n",
    "]\n",
    "\n",
    "# Загружаем файл без заголовков, задавая имена колонок.\n",
    "# Загрузка CSV-файла в объект DataFrame.\n",
    "# Метод pd.read_csv считывает данные из файла CSV (формата .csv) и загружает в таблицу.\n",
    "# header = None указывает, что в файле нет заголовков.\n",
    "df_iris = pd.read_csv(\"iris.data.csv\", header = None, names = right_columns_names)"
   ]
  },
  {
   "cell_type": "code",
   "execution_count": 106,
   "id": "6c28955c",
   "metadata": {},
   "outputs": [
    {
     "data": {
      "text/plain": [
       "Index(['sepal_length (cm)', 'sepal_width (cm)', 'petal_length (cm)',\n",
       "       'petal_width (cm)', 'species'],\n",
       "      dtype='object')"
      ]
     },
     "execution_count": 106,
     "metadata": {},
     "output_type": "execute_result"
    }
   ],
   "source": [
    "# Удалить пробелы, привести к единообразию (к нижнему регистру)\n",
    "df_iris.columns = df_iris.columns.str.strip().str.lower()\n",
    "# Вывести все колонки\n",
    "df_iris.columns"
   ]
  },
  {
   "cell_type": "markdown",
   "id": "bae5e9e6",
   "metadata": {},
   "source": [
    "# 2. Используйте метод `head()` для отображения первых `5` строк набора данных.\n",
    "---"
   ]
  },
  {
   "cell_type": "code",
   "execution_count": 107,
   "id": "32fceff9",
   "metadata": {},
   "outputs": [
    {
     "data": {
      "text/html": [
       "<div>\n",
       "<style scoped>\n",
       "    .dataframe tbody tr th:only-of-type {\n",
       "        vertical-align: middle;\n",
       "    }\n",
       "\n",
       "    .dataframe tbody tr th {\n",
       "        vertical-align: top;\n",
       "    }\n",
       "\n",
       "    .dataframe thead th {\n",
       "        text-align: right;\n",
       "    }\n",
       "</style>\n",
       "<table border=\"1\" class=\"dataframe\">\n",
       "  <thead>\n",
       "    <tr style=\"text-align: right;\">\n",
       "      <th></th>\n",
       "      <th>sepal_length (cm)</th>\n",
       "      <th>sepal_width (cm)</th>\n",
       "      <th>petal_length (cm)</th>\n",
       "      <th>petal_width (cm)</th>\n",
       "      <th>species</th>\n",
       "    </tr>\n",
       "  </thead>\n",
       "  <tbody>\n",
       "    <tr>\n",
       "      <th>0</th>\n",
       "      <td>5.1</td>\n",
       "      <td>3.5</td>\n",
       "      <td>1.4</td>\n",
       "      <td>0.2</td>\n",
       "      <td>Iris-setosa</td>\n",
       "    </tr>\n",
       "    <tr>\n",
       "      <th>1</th>\n",
       "      <td>4.9</td>\n",
       "      <td>3.0</td>\n",
       "      <td>1.4</td>\n",
       "      <td>0.2</td>\n",
       "      <td>Iris-setosa</td>\n",
       "    </tr>\n",
       "    <tr>\n",
       "      <th>2</th>\n",
       "      <td>4.7</td>\n",
       "      <td>3.2</td>\n",
       "      <td>1.3</td>\n",
       "      <td>0.2</td>\n",
       "      <td>Iris-setosa</td>\n",
       "    </tr>\n",
       "    <tr>\n",
       "      <th>3</th>\n",
       "      <td>4.6</td>\n",
       "      <td>3.1</td>\n",
       "      <td>1.5</td>\n",
       "      <td>0.2</td>\n",
       "      <td>Iris-setosa</td>\n",
       "    </tr>\n",
       "    <tr>\n",
       "      <th>4</th>\n",
       "      <td>5.0</td>\n",
       "      <td>3.6</td>\n",
       "      <td>1.4</td>\n",
       "      <td>0.2</td>\n",
       "      <td>Iris-setosa</td>\n",
       "    </tr>\n",
       "  </tbody>\n",
       "</table>\n",
       "</div>"
      ],
      "text/plain": [
       "   sepal_length (cm)  sepal_width (cm)  petal_length (cm)  petal_width (cm)  \\\n",
       "0                5.1               3.5                1.4               0.2   \n",
       "1                4.9               3.0                1.4               0.2   \n",
       "2                4.7               3.2                1.3               0.2   \n",
       "3                4.6               3.1                1.5               0.2   \n",
       "4                5.0               3.6                1.4               0.2   \n",
       "\n",
       "       species  \n",
       "0  Iris-setosa  \n",
       "1  Iris-setosa  \n",
       "2  Iris-setosa  \n",
       "3  Iris-setosa  \n",
       "4  Iris-setosa  "
      ]
     },
     "execution_count": 107,
     "metadata": {},
     "output_type": "execute_result"
    }
   ],
   "source": [
    "# Вывод первых 5 строк таблицы.\n",
    "df_iris.head()"
   ]
  },
  {
   "cell_type": "markdown",
   "id": "337a2292",
   "metadata": {},
   "source": [
    "# 3. Используйте метод `tail()` для отображения последних `5` строк набора данных.\n",
    "---"
   ]
  },
  {
   "cell_type": "code",
   "execution_count": 108,
   "id": "dcbdd53c",
   "metadata": {},
   "outputs": [
    {
     "data": {
      "text/html": [
       "<div>\n",
       "<style scoped>\n",
       "    .dataframe tbody tr th:only-of-type {\n",
       "        vertical-align: middle;\n",
       "    }\n",
       "\n",
       "    .dataframe tbody tr th {\n",
       "        vertical-align: top;\n",
       "    }\n",
       "\n",
       "    .dataframe thead th {\n",
       "        text-align: right;\n",
       "    }\n",
       "</style>\n",
       "<table border=\"1\" class=\"dataframe\">\n",
       "  <thead>\n",
       "    <tr style=\"text-align: right;\">\n",
       "      <th></th>\n",
       "      <th>sepal_length (cm)</th>\n",
       "      <th>sepal_width (cm)</th>\n",
       "      <th>petal_length (cm)</th>\n",
       "      <th>petal_width (cm)</th>\n",
       "      <th>species</th>\n",
       "    </tr>\n",
       "  </thead>\n",
       "  <tbody>\n",
       "    <tr>\n",
       "      <th>145</th>\n",
       "      <td>6.7</td>\n",
       "      <td>3.0</td>\n",
       "      <td>5.2</td>\n",
       "      <td>2.3</td>\n",
       "      <td>Iris-virginica</td>\n",
       "    </tr>\n",
       "    <tr>\n",
       "      <th>146</th>\n",
       "      <td>6.3</td>\n",
       "      <td>2.5</td>\n",
       "      <td>5.0</td>\n",
       "      <td>1.9</td>\n",
       "      <td>Iris-virginica</td>\n",
       "    </tr>\n",
       "    <tr>\n",
       "      <th>147</th>\n",
       "      <td>6.5</td>\n",
       "      <td>3.0</td>\n",
       "      <td>5.2</td>\n",
       "      <td>2.0</td>\n",
       "      <td>Iris-virginica</td>\n",
       "    </tr>\n",
       "    <tr>\n",
       "      <th>148</th>\n",
       "      <td>6.2</td>\n",
       "      <td>3.4</td>\n",
       "      <td>5.4</td>\n",
       "      <td>2.3</td>\n",
       "      <td>Iris-virginica</td>\n",
       "    </tr>\n",
       "    <tr>\n",
       "      <th>149</th>\n",
       "      <td>5.9</td>\n",
       "      <td>3.0</td>\n",
       "      <td>5.1</td>\n",
       "      <td>1.8</td>\n",
       "      <td>Iris-virginica</td>\n",
       "    </tr>\n",
       "  </tbody>\n",
       "</table>\n",
       "</div>"
      ],
      "text/plain": [
       "     sepal_length (cm)  sepal_width (cm)  petal_length (cm)  petal_width (cm)  \\\n",
       "145                6.7               3.0                5.2               2.3   \n",
       "146                6.3               2.5                5.0               1.9   \n",
       "147                6.5               3.0                5.2               2.0   \n",
       "148                6.2               3.4                5.4               2.3   \n",
       "149                5.9               3.0                5.1               1.8   \n",
       "\n",
       "            species  \n",
       "145  Iris-virginica  \n",
       "146  Iris-virginica  \n",
       "147  Iris-virginica  \n",
       "148  Iris-virginica  \n",
       "149  Iris-virginica  "
      ]
     },
     "execution_count": 108,
     "metadata": {},
     "output_type": "execute_result"
    }
   ],
   "source": [
    "# Отображаем последние 5 строк датафрейма\n",
    "df_iris.tail()"
   ]
  },
  {
   "cell_type": "markdown",
   "id": "d8d520f0",
   "metadata": {},
   "source": [
    "# 4. Примените метод `describe()` для получения статистического описания числовых столбцов.\n",
    "---"
   ]
  },
  {
   "cell_type": "code",
   "execution_count": 109,
   "id": "48d61f14",
   "metadata": {},
   "outputs": [
    {
     "data": {
      "text/html": [
       "<div>\n",
       "<style scoped>\n",
       "    .dataframe tbody tr th:only-of-type {\n",
       "        vertical-align: middle;\n",
       "    }\n",
       "\n",
       "    .dataframe tbody tr th {\n",
       "        vertical-align: top;\n",
       "    }\n",
       "\n",
       "    .dataframe thead th {\n",
       "        text-align: right;\n",
       "    }\n",
       "</style>\n",
       "<table border=\"1\" class=\"dataframe\">\n",
       "  <thead>\n",
       "    <tr style=\"text-align: right;\">\n",
       "      <th></th>\n",
       "      <th>sepal_length (cm)</th>\n",
       "      <th>sepal_width (cm)</th>\n",
       "      <th>petal_length (cm)</th>\n",
       "      <th>petal_width (cm)</th>\n",
       "    </tr>\n",
       "  </thead>\n",
       "  <tbody>\n",
       "    <tr>\n",
       "      <th>count</th>\n",
       "      <td>150.000000</td>\n",
       "      <td>150.000000</td>\n",
       "      <td>150.000000</td>\n",
       "      <td>150.000000</td>\n",
       "    </tr>\n",
       "    <tr>\n",
       "      <th>mean</th>\n",
       "      <td>5.843333</td>\n",
       "      <td>3.054000</td>\n",
       "      <td>3.758667</td>\n",
       "      <td>1.198667</td>\n",
       "    </tr>\n",
       "    <tr>\n",
       "      <th>std</th>\n",
       "      <td>0.828066</td>\n",
       "      <td>0.433594</td>\n",
       "      <td>1.764420</td>\n",
       "      <td>0.763161</td>\n",
       "    </tr>\n",
       "    <tr>\n",
       "      <th>min</th>\n",
       "      <td>4.300000</td>\n",
       "      <td>2.000000</td>\n",
       "      <td>1.000000</td>\n",
       "      <td>0.100000</td>\n",
       "    </tr>\n",
       "    <tr>\n",
       "      <th>25%</th>\n",
       "      <td>5.100000</td>\n",
       "      <td>2.800000</td>\n",
       "      <td>1.600000</td>\n",
       "      <td>0.300000</td>\n",
       "    </tr>\n",
       "    <tr>\n",
       "      <th>50%</th>\n",
       "      <td>5.800000</td>\n",
       "      <td>3.000000</td>\n",
       "      <td>4.350000</td>\n",
       "      <td>1.300000</td>\n",
       "    </tr>\n",
       "    <tr>\n",
       "      <th>75%</th>\n",
       "      <td>6.400000</td>\n",
       "      <td>3.300000</td>\n",
       "      <td>5.100000</td>\n",
       "      <td>1.800000</td>\n",
       "    </tr>\n",
       "    <tr>\n",
       "      <th>max</th>\n",
       "      <td>7.900000</td>\n",
       "      <td>4.400000</td>\n",
       "      <td>6.900000</td>\n",
       "      <td>2.500000</td>\n",
       "    </tr>\n",
       "  </tbody>\n",
       "</table>\n",
       "</div>"
      ],
      "text/plain": [
       "       sepal_length (cm)  sepal_width (cm)  petal_length (cm)  \\\n",
       "count         150.000000        150.000000         150.000000   \n",
       "mean            5.843333          3.054000           3.758667   \n",
       "std             0.828066          0.433594           1.764420   \n",
       "min             4.300000          2.000000           1.000000   \n",
       "25%             5.100000          2.800000           1.600000   \n",
       "50%             5.800000          3.000000           4.350000   \n",
       "75%             6.400000          3.300000           5.100000   \n",
       "max             7.900000          4.400000           6.900000   \n",
       "\n",
       "       petal_width (cm)  \n",
       "count        150.000000  \n",
       "mean           1.198667  \n",
       "std            0.763161  \n",
       "min            0.100000  \n",
       "25%            0.300000  \n",
       "50%            1.300000  \n",
       "75%            1.800000  \n",
       "max            2.500000  "
      ]
     },
     "execution_count": 109,
     "metadata": {},
     "output_type": "execute_result"
    }
   ],
   "source": [
    "# Метод describe() используется для получения сводной статистики по DataFrame.\n",
    "# Он автоматически рассчитывает количество ненулевых значений (count), среднее значение (mean),\n",
    "# стандартное отклонение (std / разброс данных), минимальное значение (min), 25-й, 50-й (медиана) и 75-й процентили (quartiles), а также максимальное значение (max)\n",
    "# для каждого числового столбца в DataFrame df_iris.\n",
    "df_iris.describe()"
   ]
  },
  {
   "cell_type": "markdown",
   "id": "3587a7bd",
   "metadata": {},
   "source": [
    "# 5. Используйте метод `info()` для проверки типов данных и наличия пропущенных значений.\n",
    "---"
   ]
  },
  {
   "cell_type": "code",
   "execution_count": 110,
   "id": "74fa9bb1",
   "metadata": {},
   "outputs": [
    {
     "name": "stdout",
     "output_type": "stream",
     "text": [
      "<class 'pandas.core.frame.DataFrame'>\n",
      "RangeIndex: 150 entries, 0 to 149\n",
      "Data columns (total 5 columns):\n",
      " #   Column             Non-Null Count  Dtype  \n",
      "---  ------             --------------  -----  \n",
      " 0   sepal_length (cm)  150 non-null    float64\n",
      " 1   sepal_width (cm)   150 non-null    float64\n",
      " 2   petal_length (cm)  150 non-null    float64\n",
      " 3   petal_width (cm)   150 non-null    float64\n",
      " 4   species            150 non-null    object \n",
      "dtypes: float64(4), object(1)\n",
      "memory usage: 13.9 KB\n"
     ]
    }
   ],
   "source": [
    "# Функция info() показывает информацию о DataFrame\n",
    "# Включая типы данных и использование памяти\n",
    "# memory_usage = \"deep\" позволяет получить более точную информацию о потреблении памяти\n",
    "# Важно отметить, что использование memory_usage = \"deep\" может занять больше времени, так как оно требует дополнительного анализа\n",
    "df_iris.info(memory_usage = \"deep\")"
   ]
  },
  {
   "cell_type": "markdown",
   "id": "1cd8ed68",
   "metadata": {},
   "source": [
    "# 6. С помощью метода `.loc` выберите все строки, где ширина чашелистика `(sepal width)` больше `3.0`.\n",
    "---"
   ]
  },
  {
   "cell_type": "code",
   "execution_count": 111,
   "id": "ea055cb8",
   "metadata": {},
   "outputs": [
    {
     "data": {
      "text/html": [
       "<div>\n",
       "<style scoped>\n",
       "    .dataframe tbody tr th:only-of-type {\n",
       "        vertical-align: middle;\n",
       "    }\n",
       "\n",
       "    .dataframe tbody tr th {\n",
       "        vertical-align: top;\n",
       "    }\n",
       "\n",
       "    .dataframe thead th {\n",
       "        text-align: right;\n",
       "    }\n",
       "</style>\n",
       "<table border=\"1\" class=\"dataframe\">\n",
       "  <thead>\n",
       "    <tr style=\"text-align: right;\">\n",
       "      <th></th>\n",
       "      <th>sepal_length (cm)</th>\n",
       "      <th>sepal_width (cm)</th>\n",
       "      <th>petal_length (cm)</th>\n",
       "      <th>petal_width (cm)</th>\n",
       "      <th>species</th>\n",
       "    </tr>\n",
       "  </thead>\n",
       "  <tbody>\n",
       "    <tr>\n",
       "      <th>0</th>\n",
       "      <td>5.1</td>\n",
       "      <td>3.5</td>\n",
       "      <td>1.4</td>\n",
       "      <td>0.2</td>\n",
       "      <td>Iris-setosa</td>\n",
       "    </tr>\n",
       "    <tr>\n",
       "      <th>2</th>\n",
       "      <td>4.7</td>\n",
       "      <td>3.2</td>\n",
       "      <td>1.3</td>\n",
       "      <td>0.2</td>\n",
       "      <td>Iris-setosa</td>\n",
       "    </tr>\n",
       "    <tr>\n",
       "      <th>3</th>\n",
       "      <td>4.6</td>\n",
       "      <td>3.1</td>\n",
       "      <td>1.5</td>\n",
       "      <td>0.2</td>\n",
       "      <td>Iris-setosa</td>\n",
       "    </tr>\n",
       "    <tr>\n",
       "      <th>4</th>\n",
       "      <td>5.0</td>\n",
       "      <td>3.6</td>\n",
       "      <td>1.4</td>\n",
       "      <td>0.2</td>\n",
       "      <td>Iris-setosa</td>\n",
       "    </tr>\n",
       "    <tr>\n",
       "      <th>5</th>\n",
       "      <td>5.4</td>\n",
       "      <td>3.9</td>\n",
       "      <td>1.7</td>\n",
       "      <td>0.4</td>\n",
       "      <td>Iris-setosa</td>\n",
       "    </tr>\n",
       "  </tbody>\n",
       "</table>\n",
       "</div>"
      ],
      "text/plain": [
       "   sepal_length (cm)  sepal_width (cm)  petal_length (cm)  petal_width (cm)  \\\n",
       "0                5.1               3.5                1.4               0.2   \n",
       "2                4.7               3.2                1.3               0.2   \n",
       "3                4.6               3.1                1.5               0.2   \n",
       "4                5.0               3.6                1.4               0.2   \n",
       "5                5.4               3.9                1.7               0.4   \n",
       "\n",
       "       species  \n",
       "0  Iris-setosa  \n",
       "2  Iris-setosa  \n",
       "3  Iris-setosa  \n",
       "4  Iris-setosa  \n",
       "5  Iris-setosa  "
      ]
     },
     "execution_count": 111,
     "metadata": {},
     "output_type": "execute_result"
    }
   ],
   "source": [
    "# Фильтрация строк, где sepal_width > 3.0\n",
    "# Булевая маска df_filtered будет True для строк, где значение в столбце \"sepal_width\" больше 3.0\n",
    "df_filtered = df_iris.loc[df_iris[\"sepal_width (cm)\"] > 3.0]\n",
    "\n",
    "# Вывод первых 5 строк отфильтрованного DataFrame\n",
    "df_filtered.head()\n"
   ]
  },
  {
   "cell_type": "markdown",
   "id": "d056b126",
   "metadata": {},
   "source": [
    "# 7. С помощью метода `.iloc` отобразите первые `3` строки и первые `2` столбца.\n",
    "---"
   ]
  },
  {
   "cell_type": "code",
   "execution_count": 112,
   "id": "c79e2fc0",
   "metadata": {},
   "outputs": [
    {
     "name": "stdout",
     "output_type": "stream",
     "text": [
      "Первые 3 строки и первые 2 столбца:\n"
     ]
    },
    {
     "data": {
      "text/html": [
       "<div>\n",
       "<style scoped>\n",
       "    .dataframe tbody tr th:only-of-type {\n",
       "        vertical-align: middle;\n",
       "    }\n",
       "\n",
       "    .dataframe tbody tr th {\n",
       "        vertical-align: top;\n",
       "    }\n",
       "\n",
       "    .dataframe thead th {\n",
       "        text-align: right;\n",
       "    }\n",
       "</style>\n",
       "<table border=\"1\" class=\"dataframe\">\n",
       "  <thead>\n",
       "    <tr style=\"text-align: right;\">\n",
       "      <th></th>\n",
       "      <th>sepal_length (cm)</th>\n",
       "      <th>sepal_width (cm)</th>\n",
       "    </tr>\n",
       "  </thead>\n",
       "  <tbody>\n",
       "    <tr>\n",
       "      <th>0</th>\n",
       "      <td>5.1</td>\n",
       "      <td>3.5</td>\n",
       "    </tr>\n",
       "    <tr>\n",
       "      <th>1</th>\n",
       "      <td>4.9</td>\n",
       "      <td>3.0</td>\n",
       "    </tr>\n",
       "    <tr>\n",
       "      <th>2</th>\n",
       "      <td>4.7</td>\n",
       "      <td>3.2</td>\n",
       "    </tr>\n",
       "  </tbody>\n",
       "</table>\n",
       "</div>"
      ],
      "text/plain": [
       "   sepal_length (cm)  sepal_width (cm)\n",
       "0                5.1               3.5\n",
       "1                4.9               3.0\n",
       "2                4.7               3.2"
      ]
     },
     "execution_count": 112,
     "metadata": {},
     "output_type": "execute_result"
    }
   ],
   "source": [
    "# Выбираем первые 3 строки и первые 2 столбца\n",
    "df_first3_2cols = df_iris.iloc[0:3, 0:2]\n",
    "\n",
    "# Выводим полученный DataFrame\n",
    "print(\"Первые 3 строки и первые 2 столбца:\")\n",
    "df_first3_2cols"
   ]
  },
  {
   "cell_type": "markdown",
   "id": "e9cdf500",
   "metadata": {},
   "source": [
    "# 8. Преобразуйте тип данных столбца с названием вида `(species)` в категориальный тип с помощью метода `.astype().`\n",
    "---"
   ]
  },
  {
   "cell_type": "code",
   "execution_count": 113,
   "id": "3c8a1377",
   "metadata": {},
   "outputs": [
    {
     "name": "stdout",
     "output_type": "stream",
     "text": [
      "Тип данных столбца 'species': category\n"
     ]
    }
   ],
   "source": [
    "# Преобразование столбца \"species\" в категориальный тип данных\n",
    "# Метод astype(\"category\") преобразует столбец \"species\" в категориальный тип данных.\n",
    "df_iris[\"species\"] = df_iris[\"species\"].astype(\"category\")\n",
    "\n",
    "# Выводим тип данных столбца \"species\" после преобразования\n",
    "print(\"Тип данных столбца 'species':\", df_iris[\"species\"].dtype)"
   ]
  },
  {
   "cell_type": "markdown",
   "id": "13e0b48d",
   "metadata": {},
   "source": [
    "# 9. Вычислите средние значения всех числовых столбцов, сгруппированных по видам ирисов, используя метод `.groupby()`.\n",
    "---"
   ]
  },
  {
   "cell_type": "code",
   "execution_count": 114,
   "id": "a2ac4160",
   "metadata": {},
   "outputs": [
    {
     "name": "stderr",
     "output_type": "stream",
     "text": [
      "C:\\Users\\Apollo Z\\AppData\\Local\\Temp\\ipykernel_17552\\2249050404.py:8: FutureWarning: The default of observed=False is deprecated and will be changed to True in a future version of pandas. Pass observed=False to retain current behavior or observed=True to adopt the future default and silence this warning.\n",
      "  df_iris.groupby(\"species\")[num_columns]\n"
     ]
    },
    {
     "data": {
      "text/html": [
       "<div>\n",
       "<style scoped>\n",
       "    .dataframe tbody tr th:only-of-type {\n",
       "        vertical-align: middle;\n",
       "    }\n",
       "\n",
       "    .dataframe tbody tr th {\n",
       "        vertical-align: top;\n",
       "    }\n",
       "\n",
       "    .dataframe thead th {\n",
       "        text-align: right;\n",
       "    }\n",
       "</style>\n",
       "<table border=\"1\" class=\"dataframe\">\n",
       "  <thead>\n",
       "    <tr style=\"text-align: right;\">\n",
       "      <th></th>\n",
       "      <th>species</th>\n",
       "      <th>sepal_length (cm)</th>\n",
       "      <th>sepal_width (cm)</th>\n",
       "      <th>petal_length (cm)</th>\n",
       "      <th>petal_width (cm)</th>\n",
       "    </tr>\n",
       "  </thead>\n",
       "  <tbody>\n",
       "    <tr>\n",
       "      <th>0</th>\n",
       "      <td>Iris-setosa</td>\n",
       "      <td>5.006</td>\n",
       "      <td>3.418</td>\n",
       "      <td>1.464</td>\n",
       "      <td>0.244</td>\n",
       "    </tr>\n",
       "    <tr>\n",
       "      <th>1</th>\n",
       "      <td>Iris-versicolor</td>\n",
       "      <td>5.936</td>\n",
       "      <td>2.770</td>\n",
       "      <td>4.260</td>\n",
       "      <td>1.326</td>\n",
       "    </tr>\n",
       "    <tr>\n",
       "      <th>2</th>\n",
       "      <td>Iris-virginica</td>\n",
       "      <td>6.588</td>\n",
       "      <td>2.974</td>\n",
       "      <td>5.552</td>\n",
       "      <td>2.026</td>\n",
       "    </tr>\n",
       "  </tbody>\n",
       "</table>\n",
       "</div>"
      ],
      "text/plain": [
       "           species  sepal_length (cm)  sepal_width (cm)  petal_length (cm)  \\\n",
       "0      Iris-setosa              5.006             3.418              1.464   \n",
       "1  Iris-versicolor              5.936             2.770              4.260   \n",
       "2   Iris-virginica              6.588             2.974              5.552   \n",
       "\n",
       "   petal_width (cm)  \n",
       "0             0.244  \n",
       "1             1.326  \n",
       "2             2.026  "
      ]
     },
     "execution_count": 114,
     "metadata": {},
     "output_type": "execute_result"
    }
   ],
   "source": [
    "# Получение списка столбцов с типом данных \"float64\"\n",
    "# Метод .select_dtypes() используется для выбора столбцов DataFrame по типу данных.\n",
    "num_columns = df_iris.select_dtypes(include = \"float64\").columns\n",
    "\n",
    "# Группировка данных по столбцу \"species\" и вычисление среднего значения для числовых столбцов\n",
    "# Метод groupby() группирует DataFrame по уникальным значениям в столбце \"species\".\n",
    "df_types_of_iris = (\n",
    "    df_iris.groupby(\"species\")[num_columns]\n",
    "    .mean()\n",
    "    .reset_index()\n",
    ")\n",
    "\n",
    "df_types_of_iris.head()"
   ]
  },
  {
   "cell_type": "markdown",
   "id": "d863a967",
   "metadata": {},
   "source": [
    "# 10. Подсчитайте количество записей для каждого вида ирисов с помощью метода `.groupby()`.\n",
    "---"
   ]
  },
  {
   "cell_type": "code",
   "execution_count": 115,
   "id": "e649f711",
   "metadata": {},
   "outputs": [
    {
     "name": "stdout",
     "output_type": "stream",
     "text": [
      "Количество уникальных видов ирисов:\n"
     ]
    },
    {
     "name": "stderr",
     "output_type": "stream",
     "text": [
      "C:\\Users\\Apollo Z\\AppData\\Local\\Temp\\ipykernel_17552\\529302676.py:3: FutureWarning: The default of observed=False is deprecated and will be changed to True in a future version of pandas. Pass observed=False to retain current behavior or observed=True to adopt the future default and silence this warning.\n",
      "  df_iris.groupby(\"species\")    # Группируем по столбцу \"species\"\n"
     ]
    },
    {
     "data": {
      "text/html": [
       "<div>\n",
       "<style scoped>\n",
       "    .dataframe tbody tr th:only-of-type {\n",
       "        vertical-align: middle;\n",
       "    }\n",
       "\n",
       "    .dataframe tbody tr th {\n",
       "        vertical-align: top;\n",
       "    }\n",
       "\n",
       "    .dataframe thead th {\n",
       "        text-align: right;\n",
       "    }\n",
       "</style>\n",
       "<table border=\"1\" class=\"dataframe\">\n",
       "  <thead>\n",
       "    <tr style=\"text-align: right;\">\n",
       "      <th></th>\n",
       "      <th>species</th>\n",
       "      <th>count</th>\n",
       "    </tr>\n",
       "  </thead>\n",
       "  <tbody>\n",
       "    <tr>\n",
       "      <th>0</th>\n",
       "      <td>Iris-setosa</td>\n",
       "      <td>50</td>\n",
       "    </tr>\n",
       "    <tr>\n",
       "      <th>1</th>\n",
       "      <td>Iris-versicolor</td>\n",
       "      <td>50</td>\n",
       "    </tr>\n",
       "    <tr>\n",
       "      <th>2</th>\n",
       "      <td>Iris-virginica</td>\n",
       "      <td>50</td>\n",
       "    </tr>\n",
       "  </tbody>\n",
       "</table>\n",
       "</div>"
      ],
      "text/plain": [
       "           species  count\n",
       "0      Iris-setosa     50\n",
       "1  Iris-versicolor     50\n",
       "2   Iris-virginica     50"
      ]
     },
     "execution_count": 115,
     "metadata": {},
     "output_type": "execute_result"
    }
   ],
   "source": [
    "# Кол-во уникальных видов ирисов\n",
    "df_unique_species = (\n",
    "    df_iris.groupby(\"species\")    # Группируем по столбцу \"species\"\n",
    "    .size()                       # Считаем количество строк для каждого уникального вида\n",
    "    .reset_index(name = \"count\")  # Переименовываем колонку с количеством в \"count\"\n",
    ")\n",
    "\n",
    "# Выводим количество уникальных видов ирисов\n",
    "print(\"Количество уникальных видов ирисов:\")\n",
    "df_unique_species"
   ]
  },
  {
   "cell_type": "markdown",
   "id": "0b28a8f9",
   "metadata": {},
   "source": [
    "# 11. 📊 Задание: Создайте сводную таблицу (pivot table)\n",
    "- **Строки**: `species`\n",
    "- **Значения**: `sepal_length (cm)`\n",
    "- **Агрегация**: `mean` (среднее значение)\n",
    "---\n",
    "# 12. Добавьте в сводную таблицу ещё одно значение - petal length (cm).\n",
    "---"
   ]
  },
  {
   "cell_type": "code",
   "execution_count": null,
   "id": "e154a009",
   "metadata": {},
   "outputs": [
    {
     "name": "stdout",
     "output_type": "stream",
     "text": [
      "Сводная таблица по среднему значению sepal_length (cm) для каждого вида ирисов:\n"
     ]
    },
    {
     "name": "stderr",
     "output_type": "stream",
     "text": [
      "C:\\Users\\Apollo Z\\AppData\\Local\\Temp\\ipykernel_17552\\3685607716.py:2: FutureWarning: The default value of observed=False is deprecated and will change to observed=True in a future version of pandas. Specify observed=False to silence this warning and retain the current behavior\n",
      "  df_iris.pivot_table(\n"
     ]
    },
    {
     "data": {
      "text/html": [
       "<div>\n",
       "<style scoped>\n",
       "    .dataframe tbody tr th:only-of-type {\n",
       "        vertical-align: middle;\n",
       "    }\n",
       "\n",
       "    .dataframe tbody tr th {\n",
       "        vertical-align: top;\n",
       "    }\n",
       "\n",
       "    .dataframe thead th {\n",
       "        text-align: right;\n",
       "    }\n",
       "</style>\n",
       "<table border=\"1\" class=\"dataframe\">\n",
       "  <thead>\n",
       "    <tr style=\"text-align: right;\">\n",
       "      <th></th>\n",
       "      <th>petal_length (cm)</th>\n",
       "      <th>sepal_length (cm)</th>\n",
       "    </tr>\n",
       "    <tr>\n",
       "      <th>species</th>\n",
       "      <th></th>\n",
       "      <th></th>\n",
       "    </tr>\n",
       "  </thead>\n",
       "  <tbody>\n",
       "    <tr>\n",
       "      <th>Iris-setosa</th>\n",
       "      <td>1.464</td>\n",
       "      <td>5.006</td>\n",
       "    </tr>\n",
       "    <tr>\n",
       "      <th>Iris-versicolor</th>\n",
       "      <td>4.260</td>\n",
       "      <td>5.936</td>\n",
       "    </tr>\n",
       "    <tr>\n",
       "      <th>Iris-virginica</th>\n",
       "      <td>5.552</td>\n",
       "      <td>6.588</td>\n",
       "    </tr>\n",
       "  </tbody>\n",
       "</table>\n",
       "</div>"
      ],
      "text/plain": [
       "                 petal_length (cm)  sepal_length (cm)\n",
       "species                                              \n",
       "Iris-setosa                  1.464              5.006\n",
       "Iris-versicolor              4.260              5.936\n",
       "Iris-virginica               5.552              6.588"
      ]
     },
     "execution_count": 118,
     "metadata": {},
     "output_type": "execute_result"
    }
   ],
   "source": [
    "# Создание сводной таблицы с использованием метода pivot_table\n",
    "df_pivot_table = (\n",
    "    df_iris.pivot_table(\n",
    "        index = \"species\",              # Индексируем по столбцу \"species\"\n",
    "        values = [\"sepal_length (cm)\", \"petal_length (cm)\"],   # Значения для агрегации\n",
    "        aggfunc = \"mean\",               # Функция агрегации - среднее значение\n",
    "        fill_value = 0                  # Заполняем пропуски нулями (если есть пропуски в данных)\n",
    "    )\n",
    ")\n",
    "\n",
    "# Выводим сводную таблицу\n",
    "print(\"Сводная таблица по среднему значению sepal_length (cm) для каждого вида ирисов:\")\n",
    "df_pivot_table"
   ]
  },
  {
   "cell_type": "markdown",
   "id": "201e1fb3",
   "metadata": {},
   "source": [
    "# 13. Создайте новый столбец `sepal_ratio` как отношение длины чашелистика к его ширине.\n",
    "---"
   ]
  },
  {
   "cell_type": "code",
   "execution_count": 120,
   "id": "3264dba3",
   "metadata": {},
   "outputs": [
    {
     "data": {
      "text/html": [
       "<div>\n",
       "<style scoped>\n",
       "    .dataframe tbody tr th:only-of-type {\n",
       "        vertical-align: middle;\n",
       "    }\n",
       "\n",
       "    .dataframe tbody tr th {\n",
       "        vertical-align: top;\n",
       "    }\n",
       "\n",
       "    .dataframe thead th {\n",
       "        text-align: right;\n",
       "    }\n",
       "</style>\n",
       "<table border=\"1\" class=\"dataframe\">\n",
       "  <thead>\n",
       "    <tr style=\"text-align: right;\">\n",
       "      <th></th>\n",
       "      <th>sepal_length (cm)</th>\n",
       "      <th>sepal_width (cm)</th>\n",
       "      <th>petal_length (cm)</th>\n",
       "      <th>petal_width (cm)</th>\n",
       "      <th>species</th>\n",
       "      <th>sepal_ratio</th>\n",
       "    </tr>\n",
       "  </thead>\n",
       "  <tbody>\n",
       "    <tr>\n",
       "      <th>0</th>\n",
       "      <td>5.1</td>\n",
       "      <td>3.5</td>\n",
       "      <td>1.4</td>\n",
       "      <td>0.2</td>\n",
       "      <td>Iris-setosa</td>\n",
       "      <td>1.457143</td>\n",
       "    </tr>\n",
       "    <tr>\n",
       "      <th>1</th>\n",
       "      <td>4.9</td>\n",
       "      <td>3.0</td>\n",
       "      <td>1.4</td>\n",
       "      <td>0.2</td>\n",
       "      <td>Iris-setosa</td>\n",
       "      <td>1.633333</td>\n",
       "    </tr>\n",
       "    <tr>\n",
       "      <th>2</th>\n",
       "      <td>4.7</td>\n",
       "      <td>3.2</td>\n",
       "      <td>1.3</td>\n",
       "      <td>0.2</td>\n",
       "      <td>Iris-setosa</td>\n",
       "      <td>1.468750</td>\n",
       "    </tr>\n",
       "    <tr>\n",
       "      <th>3</th>\n",
       "      <td>4.6</td>\n",
       "      <td>3.1</td>\n",
       "      <td>1.5</td>\n",
       "      <td>0.2</td>\n",
       "      <td>Iris-setosa</td>\n",
       "      <td>1.483871</td>\n",
       "    </tr>\n",
       "    <tr>\n",
       "      <th>4</th>\n",
       "      <td>5.0</td>\n",
       "      <td>3.6</td>\n",
       "      <td>1.4</td>\n",
       "      <td>0.2</td>\n",
       "      <td>Iris-setosa</td>\n",
       "      <td>1.388889</td>\n",
       "    </tr>\n",
       "  </tbody>\n",
       "</table>\n",
       "</div>"
      ],
      "text/plain": [
       "   sepal_length (cm)  sepal_width (cm)  petal_length (cm)  petal_width (cm)  \\\n",
       "0                5.1               3.5                1.4               0.2   \n",
       "1                4.9               3.0                1.4               0.2   \n",
       "2                4.7               3.2                1.3               0.2   \n",
       "3                4.6               3.1                1.5               0.2   \n",
       "4                5.0               3.6                1.4               0.2   \n",
       "\n",
       "       species  sepal_ratio  \n",
       "0  Iris-setosa     1.457143  \n",
       "1  Iris-setosa     1.633333  \n",
       "2  Iris-setosa     1.468750  \n",
       "3  Iris-setosa     1.483871  \n",
       "4  Iris-setosa     1.388889  "
      ]
     },
     "execution_count": 120,
     "metadata": {},
     "output_type": "execute_result"
    }
   ],
   "source": [
    "# Создание нового столбца \"sepal_ratio\" в DataFrame df_iris\n",
    "# Этот столбец будет содержать отношение длины чашелистика к ширине чашелистика\n",
    "df_iris[\"sepal_ratio\"] = df_iris[\"sepal_length (cm)\"] / df_iris[\"sepal_width (cm)\"]\n",
    "\n",
    "# Выводим первые 5 строк DataFrame с новым столбцом \"sepal_ratio\"\n",
    "df_iris.head()"
   ]
  },
  {
   "cell_type": "markdown",
   "id": "9e4d2f0f",
   "metadata": {},
   "source": [
    "# 14. Определите вид ириса, у которого наибольшее среднее значение `sepal_ratio`.\n",
    "---"
   ]
  },
  {
   "cell_type": "code",
   "execution_count": null,
   "id": "d6672582",
   "metadata": {},
   "outputs": [
    {
     "name": "stderr",
     "output_type": "stream",
     "text": [
      "C:\\Users\\Apollo Z\\AppData\\Local\\Temp\\ipykernel_17552\\1623990506.py:3: FutureWarning: The default of observed=False is deprecated and will be changed to True in a future version of pandas. Pass observed=False to retain current behavior or observed=True to adopt the future default and silence this warning.\n",
      "  .groupby(\"species\")[\"sepal_ratio\"]  # Группируем по столбцу \"species\"\n"
     ]
    },
    {
     "data": {
      "text/html": [
       "<div>\n",
       "<style scoped>\n",
       "    .dataframe tbody tr th:only-of-type {\n",
       "        vertical-align: middle;\n",
       "    }\n",
       "\n",
       "    .dataframe tbody tr th {\n",
       "        vertical-align: top;\n",
       "    }\n",
       "\n",
       "    .dataframe thead th {\n",
       "        text-align: right;\n",
       "    }\n",
       "</style>\n",
       "<table border=\"1\" class=\"dataframe\">\n",
       "  <thead>\n",
       "    <tr style=\"text-align: right;\">\n",
       "      <th></th>\n",
       "      <th>species</th>\n",
       "      <th>mean_sepal_ratio</th>\n",
       "    </tr>\n",
       "  </thead>\n",
       "  <tbody>\n",
       "    <tr>\n",
       "      <th>0</th>\n",
       "      <td>Iris-setosa</td>\n",
       "      <td>1.474578</td>\n",
       "    </tr>\n",
       "    <tr>\n",
       "      <th>1</th>\n",
       "      <td>Iris-versicolor</td>\n",
       "      <td>2.160402</td>\n",
       "    </tr>\n",
       "    <tr>\n",
       "      <th>2</th>\n",
       "      <td>Iris-virginica</td>\n",
       "      <td>2.230453</td>\n",
       "    </tr>\n",
       "  </tbody>\n",
       "</table>\n",
       "</div>"
      ],
      "text/plain": [
       "           species  mean_sepal_ratio\n",
       "0      Iris-setosa          1.474578\n",
       "1  Iris-versicolor          2.160402\n",
       "2   Iris-virginica          2.230453"
      ]
     },
     "execution_count": 122,
     "metadata": {},
     "output_type": "execute_result"
    }
   ],
   "source": [
    "# Группировка данных по столбцу \"species\" и вычисление среднего значения для нового столбца \"sepal_ratio\"\n",
    "mean_sepal_ratio_by_species = (\n",
    "    df_iris\n",
    "    .groupby(\"species\")[\"sepal_ratio\"]  # Группируем по столбцу \"species\"\n",
    "    .agg(\"mean\")  # Вычисляем среднее значение для столбца \"sepal_ratio\"\n",
    "    .reset_index(name = \"mean_sepal_ratio\")  # Сбрасываем индекс и переименовываем колонку\n",
    ")\n",
    "\n",
    "# Выводим среднее значение отношения длины чашелистика к ширине чашелистика для каждого вида ирисов\n",
    "mean_sepal_ratio_by_species"
   ]
  },
  {
   "cell_type": "markdown",
   "id": "71ca445e",
   "metadata": {},
   "source": [
    "# 15. Используйте только библиотеку `pandas` для анализа и обработки данных. `Условие соблюдено!`.\n",
    "---\n",
    "# 16. Добавьте комментарии к каждой операции, объясняющие, что делает код. `Условие соблюдено!`."
   ]
  }
 ],
 "metadata": {
  "kernelspec": {
   "display_name": "Python 3",
   "language": "python",
   "name": "python3"
  },
  "language_info": {
   "codemirror_mode": {
    "name": "ipython",
    "version": 3
   },
   "file_extension": ".py",
   "mimetype": "text/x-python",
   "name": "python",
   "nbconvert_exporter": "python",
   "pygments_lexer": "ipython3",
   "version": "3.12.4"
  }
 },
 "nbformat": 4,
 "nbformat_minor": 5
}
